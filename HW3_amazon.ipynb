{
 "cells": [
  {
   "cell_type": "code",
   "execution_count": 2,
   "metadata": {
    "collapsed": true,
    "deletable": true,
    "editable": true
   },
   "outputs": [],
   "source": [
    "import pandas as pd\n",
    "import numpy as np"
   ]
  },
  {
   "cell_type": "code",
   "execution_count": 3,
   "metadata": {
    "collapsed": false,
    "deletable": true,
    "editable": true
   },
   "outputs": [],
   "source": [
    "amazon = pd.read_csv(\"amazon.csv\")\n",
    "amazon = amazon.drop('cost', 1)\n",
    "for i in range(amazon.shape[0]):\n",
    "    starcol = str(amazon.loc[i]['star']) \n",
    "    if starcol.find('hour') != -1 or starcol.find('minute') != -1:\n",
    "        amazon.set_value(i,'star','Nan')\n",
    "    # cope with time column\n",
    "    timelong = str(amazon.loc[i]['time'])\n",
    "    if timelong.find('/') != -1:\n",
    "        amazon.set_value(i, 'time', 'Nan')\n",
    "    else:        \n",
    "        h = int(timelong.find('hour'))\n",
    "        mins = int(timelong.find('minute'))\n",
    "        comma = int(timelong.find(','))\n",
    "        if h != -1:\n",
    "            hours = int(timelong[h-2])\n",
    "            minutes = int(timelong[comma+2:mins-1])\n",
    "        elif mins != -1:\n",
    "            hours = 0\n",
    "            minutes = int(timelong[:mins-1])\n",
    "        else:\n",
    "            amazon.set_value(i, 'time', 'Nan')\n",
    "        amazon.set_value(i, 'time', hours*60 + minutes)\n"
   ]
  },
  {
   "cell_type": "code",
   "execution_count": null,
   "metadata": {
    "collapsed": false,
    "deletable": true,
    "editable": true
   },
   "outputs": [],
   "source": []
  },
  {
   "cell_type": "code",
   "execution_count": null,
   "metadata": {
    "collapsed": false,
    "deletable": true,
    "editable": true
   },
   "outputs": [],
   "source": []
  }
 ],
 "metadata": {
  "kernelspec": {
   "display_name": "Python 3",
   "language": "python",
   "name": "python3"
  },
  "language_info": {
   "codemirror_mode": {
    "name": "ipython",
    "version": 3
   },
   "file_extension": ".py",
   "mimetype": "text/x-python",
   "name": "python",
   "nbconvert_exporter": "python",
   "pygments_lexer": "ipython3",
   "version": "3.5.3"
  }
 },
 "nbformat": 4,
 "nbformat_minor": 2
}
