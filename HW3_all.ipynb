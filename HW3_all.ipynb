{
 "cells": [
  {
   "cell_type": "code",
   "execution_count": 2,
   "metadata": {
    "collapsed": true,
    "deletable": true,
    "editable": true
   },
   "outputs": [],
   "source": [
    "import pandas as pd\n",
    "import numpy as np"
   ]
  },
  {
   "cell_type": "code",
   "execution_count": 22,
   "metadata": {
    "collapsed": false,
    "deletable": true,
    "editable": true
   },
   "outputs": [],
   "source": [
    "amazon = pd.read_csv(\"amazon.csv\")\n",
    "amazon = amazon.drop('cost', 1)\n",
    "for i in range(amazon.shape[0]):\n",
    "    starcol = str(amazon.loc[i]['star']) \n",
    "    if starcol.find('hour') != -1 or starcol.find('minute') != -1:\n",
    "        amazon.set_value(i,'star','Nan')\n",
    "    # cope with time column\n",
    "    timelong = str(amazon.loc[i]['time'])\n",
    "    if timelong.find('/') != -1:\n",
    "        amazon.set_value(i, 'time', 'Nan')\n",
    "    else:        \n",
    "        h = int(timelong.find('hour'))\n",
    "        mins = int(timelong.find('minute'))\n",
    "        comma = int(timelong.find(','))\n",
    "        if h != -1:\n",
    "            hours = int(timelong[h-2])\n",
    "            minutes = int(timelong[comma+2:mins-1])\n",
    "        elif mins != -1:\n",
    "            hours = 0\n",
    "            minutes = int(timelong[:mins-1])\n",
    "        else:\n",
    "            amazon.set_value(i, 'time', 'Nan')\n",
    "        amazon.set_value(i, 'time', hours*60 + minutes)\n",
    "stars = amazon['star'].str.split(',', 2, expand=True)\n",
    "#amazon.insert(0,'date',date)\n",
    "amazon['star1'] = stars.iloc[:][0]\n",
    "amazon['star2'] = stars.iloc[:][1]\n",
    "amazon = amazon.drop('star', 1)\n"
   ]
  },
  {
   "cell_type": "code",
   "execution_count": 20,
   "metadata": {
    "collapsed": false,
    "deletable": true,
    "editable": true
   },
   "outputs": [],
   "source": [
    "import re as re\n",
    "# read data\n",
    "amazon=pd.read_csv(\"amazon.csv\")\n",
    "rotten_tomatoes=pd.read_csv(\"rotten_tomatoes.csv\",encoding = \"ISO-8859-1\")\n",
    "train=pd.read_csv(\"train.csv\")\n",
    "rotten_selected=rotten_tomatoes.iloc[:,:10]\n",
    "# deal with time\n",
    "prob=[]\n",
    "for index, row in rotten_selected.iterrows():  \n",
    "    timelong=row['time']\n",
    "    if str(timelong)!='nan':\n",
    "        m=re.search(r'(\\d+) hr. (\\d+) min.',timelong)\n",
    "        m1=re.search(r'(\\d+) hr.',timelong)\n",
    "        m2=re.search(r'(\\d+) min.',timelong)\n",
    "        if m:\n",
    "            time_tup=m.groups()\n",
    "            minute=int(time_tup[0])*60+int(time_tup[1])\n",
    "        elif m1:\n",
    "            time_tup=m1.groups()\n",
    "            minute=int(time_tup[0])*60\n",
    "        elif m2:\n",
    "            time_tup=m2.groups()\n",
    "            minute=int(time_tup[0])  \n",
    "        else:\n",
    "            prob.append(index)\n",
    "        rotten_selected.set_value(index, 'time', minute)\n",
    "\n",
    "rotten_selected = rotten_selected.drop('year',1)"
   ]
  },
  {
   "cell_type": "code",
   "execution_count": null,
   "metadata": {
    "collapsed": false,
    "deletable": true,
    "editable": true
   },
   "outputs": [],
   "source": []
  },
  {
   "cell_type": "code",
   "execution_count": null,
   "metadata": {
    "collapsed": true
   },
   "outputs": [],
   "source": []
  }
 ],
 "metadata": {
  "kernelspec": {
   "display_name": "Python 3",
   "language": "python",
   "name": "python3"
  },
  "language_info": {
   "codemirror_mode": {
    "name": "ipython",
    "version": 3
   },
   "file_extension": ".py",
   "mimetype": "text/x-python",
   "name": "python",
   "nbconvert_exporter": "python",
   "pygments_lexer": "ipython3",
   "version": "3.5.3"
  }
 },
 "nbformat": 4,
 "nbformat_minor": 2
}
